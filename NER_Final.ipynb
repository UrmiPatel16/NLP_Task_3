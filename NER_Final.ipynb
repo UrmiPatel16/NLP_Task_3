{
 "cells": [
  {
   "cell_type": "code",
   "execution_count": null,
   "metadata": {},
   "outputs": [],
   "source": [
    "#!pip3 install https://s3-us-west-2.amazonaws.com/ai2-s2-scispacy/releases/v0.4.0/en_core_sci_sm-0.4.0.tar.gz      #scispacy medium model"
   ]
  },
  {
   "cell_type": "code",
   "execution_count": 1,
   "metadata": {},
   "outputs": [],
   "source": [
    "import spacy\n",
    "from spacy import displacy\n",
    "from collections import Counter\n",
    "import scispacy\n",
    "nlp = spacy.load(\"en_core_sci_md\")\n",
    "#en_ner_bionlp13cg_md\n",
    "#en_ner_bc5cdr_md\n",
    "#en_core_sci_md\n",
    "#en_core_sci_sm"
   ]
  },
  {
   "cell_type": "code",
   "execution_count": 33,
   "metadata": {},
   "outputs": [],
   "source": [
    "import pandas as pd\n",
    "df = pd.read_csv('/Users/urmi/Desktop/NLP_ASSIGN_3/final_all_text_3.csv')\n",
    "#df = pd.read_csv('/Users/urmi/Desktop/NLP_ASSIGN_3/final_all_topic_3.csv')\n",
    "#,nrows=5000"
   ]
  },
  {
   "cell_type": "code",
   "execution_count": 34,
   "metadata": {
    "scrolled": false
   },
   "outputs": [
    {
     "name": "stdout",
     "output_type": "stream",
     "text": [
      "<class 'pandas.core.frame.DataFrame'>\n",
      "RangeIndex: 733328 entries, 0 to 733327\n",
      "Data columns (total 6 columns):\n",
      " #   Column            Non-Null Count   Dtype \n",
      "---  ------            --------------   ----- \n",
      " 0   Unnamed: 0        733328 non-null  int64 \n",
      " 1   Article_Id        733328 non-null  int64 \n",
      " 2   final_text        722952 non-null  object\n",
      " 3   final_text_lower  722952 non-null  object\n",
      " 4   final_text_punct  721510 non-null  object\n",
      " 5   final_text_stop   718058 non-null  object\n",
      "dtypes: int64(2), object(4)\n",
      "memory usage: 33.6+ MB\n"
     ]
    }
   ],
   "source": [
    "df.info()"
   ]
  },
  {
   "cell_type": "code",
   "execution_count": 35,
   "metadata": {},
   "outputs": [],
   "source": [
    "# this code is for NER\n",
    "# import math\n",
    "# import numpy as np\n",
    "# string_array = df['all_topic_stop']\n",
    "\n",
    "# doc_array = []\n",
    "# for j in string_array:\n",
    "#     if(j!=j):\n",
    "#         doc_array.append(None)\n",
    "#     else:\n",
    "#         doc = nlp(j)\n",
    "#         yes=[]\n",
    "#         for ent in doc.ents:\n",
    "#             yes.append(ent.text)\n",
    "#             #print(ent.text)\n",
    "#         doc_array.append(yes)\n",
    "#         print(doc_array)"
   ]
  },
  {
   "cell_type": "code",
   "execution_count": 37,
   "metadata": {},
   "outputs": [],
   "source": [
    "#this code is for POS\n",
    "import math\n",
    "import numpy as np\n",
    "string_array = df['final_text_stop']\n",
    "\n",
    "doc_array = []\n",
    "for j in string_array:\n",
    "    if(j!=j):\n",
    "        doc_array.append(None)\n",
    "    else:\n",
    "        doc = nlp(j)\n",
    "        yes=[]\n",
    "        for token in doc:\n",
    "            if token.pos_ in ['NOUN', 'PROPN']:\n",
    "                #print(token, token.pos_)\n",
    "                yes.append(token)\n",
    "                #print(\"\\n\")\n",
    "                #print(token)\n",
    "        doc_array.append(yes)\n",
    "#         print(\"\\n\")\n",
    "        #print(doc_array)   "
   ]
  },
  {
   "cell_type": "code",
   "execution_count": 38,
   "metadata": {
    "scrolled": false
   },
   "outputs": [],
   "source": [
    "df['md_noun_text'] = doc_array"
   ]
  },
  {
   "cell_type": "code",
   "execution_count": 39,
   "metadata": {
    "scrolled": false
   },
   "outputs": [
    {
     "name": "stdout",
     "output_type": "stream",
     "text": [
      "<class 'pandas.core.frame.DataFrame'>\n",
      "RangeIndex: 733328 entries, 0 to 733327\n",
      "Data columns (total 7 columns):\n",
      " #   Column            Non-Null Count   Dtype \n",
      "---  ------            --------------   ----- \n",
      " 0   Unnamed: 0        733328 non-null  int64 \n",
      " 1   Article_Id        733328 non-null  int64 \n",
      " 2   final_text        722952 non-null  object\n",
      " 3   final_text_lower  722952 non-null  object\n",
      " 4   final_text_punct  721510 non-null  object\n",
      " 5   final_text_stop   718058 non-null  object\n",
      " 6   md_noun_text      718058 non-null  object\n",
      "dtypes: int64(2), object(5)\n",
      "memory usage: 39.2+ MB\n"
     ]
    }
   ],
   "source": [
    "df.info()"
   ]
  },
  {
   "cell_type": "code",
   "execution_count": 43,
   "metadata": {},
   "outputs": [
    {
     "data": {
      "text/plain": [
       "[liposarcoma,\n",
       " leukocytosis,\n",
       " case,\n",
       " softtissue,\n",
       " tumors,\n",
       " association,\n",
       " liposarcoma,\n",
       " lineagegranulocytecolonystimulating,\n",
       " factor,\n",
       " gcsf,\n",
       " growth,\n",
       " factor,\n",
       " leukocytosis,\n",
       " gcsfproducing,\n",
       " tumors,\n",
       " leukocytosis,\n",
       " types,\n",
       " case,\n",
       " man,\n",
       " liposarcoma,\n",
       " components,\n",
       " histiocytoma,\n",
       " features,\n",
       " liposarcoma,\n",
       " arm,\n",
       " laboratory,\n",
       " data,\n",
       " leukocytosis,\n",
       " serum,\n",
       " level,\n",
       " gcsf,\n",
       " pgml,\n",
       " days,\n",
       " surgery,\n",
       " leukocytosis,\n",
       " wbc,\n",
       " serum,\n",
       " gcsf,\n",
       " level,\n",
       " gcsf,\n",
       " pgml,\n",
       " month,\n",
       " surgery,\n",
       " leukocytosis,\n",
       " months,\n",
       " surgery,\n",
       " lung,\n",
       " lesions,\n",
       " patient,\n",
       " problems,\n",
       " english,\n",
       " literature,\n",
       " softtissue,\n",
       " tumors,\n",
       " leukocytosis,\n",
       " case,\n",
       " cases,\n",
       " liposarcoma,\n",
       " leukocytosis,\n",
       " subtype,\n",
       " liposarcoma,\n",
       " cases,\n",
       " liposarcoma,\n",
       " liposarcoma,\n",
       " cases,\n",
       " liposarcoma,\n",
       " casessince,\n",
       " softtissue,\n",
       " tumor,\n",
       " leukocytosis,\n",
       " mfh,\n",
       " mfh,\n",
       " absence,\n",
       " differentiation,\n",
       " association,\n",
       " softtissue,\n",
       " tumors,\n",
       " liposarcoma,\n",
       " lineage,\n",
       " liposarcoma,\n",
       " liposarcoma]"
      ]
     },
     "execution_count": 43,
     "metadata": {},
     "output_type": "execute_result"
    }
   ],
   "source": [
    "df['md_noun_text'][1]"
   ]
  },
  {
   "cell_type": "code",
   "execution_count": 40,
   "metadata": {},
   "outputs": [
    {
     "data": {
      "text/html": [
       "<div>\n",
       "<style scoped>\n",
       "    .dataframe tbody tr th:only-of-type {\n",
       "        vertical-align: middle;\n",
       "    }\n",
       "\n",
       "    .dataframe tbody tr th {\n",
       "        vertical-align: top;\n",
       "    }\n",
       "\n",
       "    .dataframe thead th {\n",
       "        text-align: right;\n",
       "    }\n",
       "</style>\n",
       "<table border=\"1\" class=\"dataframe\">\n",
       "  <thead>\n",
       "    <tr style=\"text-align: right;\">\n",
       "      <th></th>\n",
       "      <th>Unnamed: 0</th>\n",
       "      <th>Article_Id</th>\n",
       "      <th>final_text</th>\n",
       "      <th>final_text_lower</th>\n",
       "      <th>final_text_punct</th>\n",
       "      <th>final_text_stop</th>\n",
       "      <th>md_noun_text</th>\n",
       "    </tr>\n",
       "  </thead>\n",
       "  <tbody>\n",
       "    <tr>\n",
       "      <th>0</th>\n",
       "      <td>0</td>\n",
       "      <td>2213094</td>\n",
       "      <td>Too old to help</td>\n",
       "      <td>too old to help</td>\n",
       "      <td>too old to help</td>\n",
       "      <td>old help</td>\n",
       "      <td>[help]</td>\n",
       "    </tr>\n",
       "    <tr>\n",
       "      <th>1</th>\n",
       "      <td>1</td>\n",
       "      <td>2203997</td>\n",
       "      <td>Dedifferentiated liposarcoma with leukocytosis...</td>\n",
       "      <td>dedifferentiated liposarcoma with leukocytosis...</td>\n",
       "      <td>dedifferentiated liposarcoma with leukocytosis...</td>\n",
       "      <td>dedifferentiated liposarcoma leukocytosis case...</td>\n",
       "      <td>[liposarcoma, leukocytosis, case, softtissue, ...</td>\n",
       "    </tr>\n",
       "    <tr>\n",
       "      <th>2</th>\n",
       "      <td>2</td>\n",
       "      <td>2211553</td>\n",
       "      <td>A Functional Genomic Yeast Screen to Identify ...</td>\n",
       "      <td>a functional genomic yeast screen to identify ...</td>\n",
       "      <td>a functional genomic yeast screen to identify ...</td>\n",
       "      <td>functional genomic yeast screen identify patho...</td>\n",
       "      <td>[yeast, screen, proteins]</td>\n",
       "    </tr>\n",
       "    <tr>\n",
       "      <th>3</th>\n",
       "      <td>3</td>\n",
       "      <td>2199963</td>\n",
       "      <td>Developmental regulation of membrane traffic o...</td>\n",
       "      <td>developmental regulation of membrane traffic o...</td>\n",
       "      <td>developmental regulation of membrane traffic o...</td>\n",
       "      <td>developmental regulation membrane traffic orga...</td>\n",
       "      <td>[regulation, membrane, traffic, organization, ...</td>\n",
       "    </tr>\n",
       "    <tr>\n",
       "      <th>4</th>\n",
       "      <td>4</td>\n",
       "      <td>2203094</td>\n",
       "      <td>The Avoidance Response in</td>\n",
       "      <td>the avoidance response in</td>\n",
       "      <td>the avoidance response in</td>\n",
       "      <td>avoidance response</td>\n",
       "      <td>[avoidance, response]</td>\n",
       "    </tr>\n",
       "  </tbody>\n",
       "</table>\n",
       "</div>"
      ],
      "text/plain": [
       "   Unnamed: 0  Article_Id                                         final_text  \\\n",
       "0           0     2213094                                    Too old to help   \n",
       "1           1     2203997  Dedifferentiated liposarcoma with leukocytosis...   \n",
       "2           2     2211553  A Functional Genomic Yeast Screen to Identify ...   \n",
       "3           3     2199963  Developmental regulation of membrane traffic o...   \n",
       "4           4     2203094                         The Avoidance Response in    \n",
       "\n",
       "                                    final_text_lower  \\\n",
       "0                                    too old to help   \n",
       "1  dedifferentiated liposarcoma with leukocytosis...   \n",
       "2  a functional genomic yeast screen to identify ...   \n",
       "3  developmental regulation of membrane traffic o...   \n",
       "4                         the avoidance response in    \n",
       "\n",
       "                                    final_text_punct  \\\n",
       "0                                    too old to help   \n",
       "1  dedifferentiated liposarcoma with leukocytosis...   \n",
       "2  a functional genomic yeast screen to identify ...   \n",
       "3  developmental regulation of membrane traffic o...   \n",
       "4                         the avoidance response in    \n",
       "\n",
       "                                     final_text_stop  \\\n",
       "0                                           old help   \n",
       "1  dedifferentiated liposarcoma leukocytosis case...   \n",
       "2  functional genomic yeast screen identify patho...   \n",
       "3  developmental regulation membrane traffic orga...   \n",
       "4                                 avoidance response   \n",
       "\n",
       "                                        md_noun_text  \n",
       "0                                             [help]  \n",
       "1  [liposarcoma, leukocytosis, case, softtissue, ...  \n",
       "2                          [yeast, screen, proteins]  \n",
       "3  [regulation, membrane, traffic, organization, ...  \n",
       "4                              [avoidance, response]  "
      ]
     },
     "execution_count": 40,
     "metadata": {},
     "output_type": "execute_result"
    }
   ],
   "source": [
    "df.head()"
   ]
  },
  {
   "cell_type": "code",
   "execution_count": 41,
   "metadata": {},
   "outputs": [],
   "source": [
    "#df['md_noun_topic'][5]"
   ]
  },
  {
   "cell_type": "code",
   "execution_count": 42,
   "metadata": {},
   "outputs": [],
   "source": [
    "#save as new trial csv\n",
    "df.to_csv('/Users/urmi/Desktop/NLP_ASSIGN_3/all_text_md_noun.csv')"
   ]
  },
  {
   "cell_type": "code",
   "execution_count": null,
   "metadata": {},
   "outputs": [],
   "source": []
  }
 ],
 "metadata": {
  "kernelspec": {
   "display_name": "Python 3",
   "language": "python",
   "name": "python3"
  },
  "language_info": {
   "codemirror_mode": {
    "name": "ipython",
    "version": 3
   },
   "file_extension": ".py",
   "mimetype": "text/x-python",
   "name": "python",
   "nbconvert_exporter": "python",
   "pygments_lexer": "ipython3",
   "version": "3.9.0"
  }
 },
 "nbformat": 4,
 "nbformat_minor": 4
}
