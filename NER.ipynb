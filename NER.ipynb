{
 "cells": [
  {
   "cell_type": "code",
   "execution_count": 1,
   "metadata": {
    "scrolled": false
   },
   "outputs": [],
   "source": [
    "import spacy\n",
    "from spacy import displacy\n",
    "from collections import Counter\n",
    "import en_core_web_sm\n",
    "nlp = spacy.load(\"en_core_web_sm\")\n",
    "#nlp = spacy.load(en_core_web_sm)"
   ]
  },
  {
   "cell_type": "code",
   "execution_count": 2,
   "metadata": {},
   "outputs": [],
   "source": [
    "import nltk\n",
    "from nltk.tokenize import word_tokenize\n",
    "from nltk.tag import pos_tag\n",
    "from nltk.chunk import ne_chunk"
   ]
  },
  {
   "cell_type": "code",
   "execution_count": 3,
   "metadata": {},
   "outputs": [],
   "source": [
    "#!python3 -m spacy download en_core_web_sm"
   ]
  },
  {
   "cell_type": "code",
   "execution_count": 25,
   "metadata": {
    "scrolled": false
   },
   "outputs": [
    {
     "name": "stdout",
     "output_type": "stream",
     "text": [
      "Wednesday DATE\n"
     ]
    }
   ],
   "source": [
    "doc = nlp('The chest pain unit (CPU) provides rapid diagnostic assessment for patients with acute, undifferentiated chest pain, using a combination of electrocardiographic (ECG) recording, biochemical markers and provocative cardiac testing. We aimed to identify which elements of a CPU protocol were most diagnostically and prognostically useful.The Northern General Hospital CPU uses 2–6 hours of serial ECG / ST segment monitoring, CK-MB(mass) on arrival and at least two hours later, troponin T at least six hours after worst pain and exercise treadmill testing. Data were prospectively collected over an eighteen-month period from patients managed on the CPU. Patients discharged after CPU assessment were invited to attend a follow-up appointment 72 hours later for ECG and troponin T measurement. Hospital records of all patients were reviewed to identify adverse cardiac events over the subsequent six months. Diagnostic accuracy of each test was estimated by calculating sensitivity and specificity for: 1) acute coronary syndrome (ACS) with clinical myocardial infarction and 2) ACS with myocyte necrosis. Prognostic value was estimated by calculating the relative risk of an adverse cardiac event following a positive result.Of the 706 patients, 30 (4.2%) were diagnosed as ACS with myocardial infarction, 30 (4.2%) as ACS with myocyte necrosis, and 32 (4.5%) suffered an adverse cardiac event. Sensitivities for ACS with myocardial infarction and myocyte necrosis respectively were: serial ECG / ST segment monitoring 33% and 23%; CK-MB(mass) 96% and 63%; troponin T (using 0.03 ng/ml threshold) 96% and 90%. The only test that added useful prognostic information was exercise treadmill testing (relative risk 6 for cardiac death, non-fatal myocardial infarction or arrhythmia over six months).Serial ECG / ST monitoring, as used in our protocol, adds little diagnostic or prognostic value in patients with a normal or non-diagnostic initial ECG. CK-MB(mass) can rule out ACS with clinical myocardial infarction but not myocyte necrosis(defined as a troponin elevation without myocardial infarction). Using a low threshold for positivity for troponin T improves sensitivity of this test for myocardial infarction and myocardial necrosis. Exercise treadmill testing predicts subsequent adverse cardiac events.')\n",
    "print(ent.text, ent.label_)\n"
   ]
  },
  {
   "cell_type": "code",
   "execution_count": 26,
   "metadata": {
    "scrolled": true
   },
   "outputs": [
    {
     "name": "stdout",
     "output_type": "stream",
     "text": [
      "[(The, 'O', ''),\n",
      " (chest, 'O', ''),\n",
      " (pain, 'O', ''),\n",
      " (unit, 'O', ''),\n",
      " ((, 'O', ''),\n",
      " (CPU, 'O', ''),\n",
      " (), 'O', ''),\n",
      " (provides, 'O', ''),\n",
      " (rapid, 'O', ''),\n",
      " (diagnostic, 'O', ''),\n",
      " (assessment, 'O', ''),\n",
      " (for, 'O', ''),\n",
      " (patients, 'O', ''),\n",
      " (with, 'O', ''),\n",
      " (acute, 'O', ''),\n",
      " (,, 'O', ''),\n",
      " (undifferentiated, 'O', ''),\n",
      " (chest, 'O', ''),\n",
      " (pain, 'O', ''),\n",
      " (,, 'O', ''),\n",
      " (using, 'O', ''),\n",
      " (a, 'O', ''),\n",
      " (combination, 'O', ''),\n",
      " (of, 'O', ''),\n",
      " (electrocardiographic, 'O', ''),\n",
      " ((, 'O', ''),\n",
      " (ECG, 'B', 'ORG'),\n",
      " (), 'O', ''),\n",
      " (recording, 'O', ''),\n",
      " (,, 'O', ''),\n",
      " (biochemical, 'O', ''),\n",
      " (markers, 'O', ''),\n",
      " (and, 'O', ''),\n",
      " (provocative, 'O', ''),\n",
      " (cardiac, 'O', ''),\n",
      " (testing, 'O', ''),\n",
      " (., 'O', ''),\n",
      " (We, 'O', ''),\n",
      " (aimed, 'O', ''),\n",
      " (to, 'O', ''),\n",
      " (identify, 'O', ''),\n",
      " (which, 'O', ''),\n",
      " (elements, 'O', ''),\n",
      " (of, 'O', ''),\n",
      " (a, 'O', ''),\n",
      " (CPU, 'O', ''),\n",
      " (protocol, 'O', ''),\n",
      " (were, 'O', ''),\n",
      " (most, 'O', ''),\n",
      " (diagnostically, 'O', ''),\n",
      " (and, 'O', ''),\n",
      " (prognostically, 'O', ''),\n",
      " (useful, 'O', ''),\n",
      " (., 'O', ''),\n",
      " (The, 'B', 'ORG'),\n",
      " (Northern, 'I', 'ORG'),\n",
      " (General, 'I', 'ORG'),\n",
      " (Hospital, 'I', 'ORG'),\n",
      " (CPU, 'O', ''),\n",
      " (uses, 'O', ''),\n",
      " (2–6, 'B', 'TIME'),\n",
      " (hours, 'I', 'TIME'),\n",
      " (of, 'O', ''),\n",
      " (serial, 'O', ''),\n",
      " (ECG, 'B', 'ORG'),\n",
      " (/, 'O', ''),\n",
      " (ST, 'B', 'GPE'),\n",
      " (segment, 'O', ''),\n",
      " (monitoring, 'O', ''),\n",
      " (,, 'O', ''),\n",
      " (CK, 'O', ''),\n",
      " (-, 'O', ''),\n",
      " (MB(mass, 'O', ''),\n",
      " (), 'O', ''),\n",
      " (on, 'O', ''),\n",
      " (arrival, 'O', ''),\n",
      " (and, 'O', ''),\n",
      " (at, 'B', 'TIME'),\n",
      " (least, 'I', 'TIME'),\n",
      " (two, 'I', 'TIME'),\n",
      " (hours, 'I', 'TIME'),\n",
      " (later, 'I', 'TIME'),\n",
      " (,, 'O', ''),\n",
      " (troponin, 'O', ''),\n",
      " (T, 'O', ''),\n",
      " (at, 'B', 'TIME'),\n",
      " (least, 'I', 'TIME'),\n",
      " (six, 'I', 'TIME'),\n",
      " (hours, 'I', 'TIME'),\n",
      " (after, 'O', ''),\n",
      " (worst, 'O', ''),\n",
      " (pain, 'O', ''),\n",
      " (and, 'O', ''),\n",
      " (exercise, 'O', ''),\n",
      " (treadmill, 'O', ''),\n",
      " (testing, 'O', ''),\n",
      " (., 'O', ''),\n",
      " (Data, 'O', ''),\n",
      " (were, 'O', ''),\n",
      " (prospectively, 'O', ''),\n",
      " (collected, 'O', ''),\n",
      " (over, 'O', ''),\n",
      " (an, 'O', ''),\n",
      " (eighteen, 'B', 'DATE'),\n",
      " (-, 'I', 'DATE'),\n",
      " (month, 'I', 'DATE'),\n",
      " (period, 'O', ''),\n",
      " (from, 'O', ''),\n",
      " (patients, 'O', ''),\n",
      " (managed, 'O', ''),\n",
      " (on, 'O', ''),\n",
      " (the, 'O', ''),\n",
      " (CPU, 'O', ''),\n",
      " (., 'O', ''),\n",
      " (Patients, 'O', ''),\n",
      " (discharged, 'O', ''),\n",
      " (after, 'O', ''),\n",
      " (CPU, 'O', ''),\n",
      " (assessment, 'O', ''),\n",
      " (were, 'O', ''),\n",
      " (invited, 'O', ''),\n",
      " (to, 'O', ''),\n",
      " (attend, 'O', ''),\n",
      " (a, 'O', ''),\n",
      " (follow, 'O', ''),\n",
      " (-, 'O', ''),\n",
      " (up, 'O', ''),\n",
      " (appointment, 'O', ''),\n",
      " (72, 'B', 'TIME'),\n",
      " (hours, 'I', 'TIME'),\n",
      " (later, 'O', ''),\n",
      " (for, 'O', ''),\n",
      " (ECG, 'B', 'ORG'),\n",
      " (and, 'O', ''),\n",
      " (troponin, 'O', ''),\n",
      " (T, 'O', ''),\n",
      " (measurement, 'O', ''),\n",
      " (., 'O', ''),\n",
      " (Hospital, 'O', ''),\n",
      " (records, 'O', ''),\n",
      " (of, 'O', ''),\n",
      " (all, 'O', ''),\n",
      " (patients, 'O', ''),\n",
      " (were, 'O', ''),\n",
      " (reviewed, 'O', ''),\n",
      " (to, 'O', ''),\n",
      " (identify, 'O', ''),\n",
      " (adverse, 'O', ''),\n",
      " (cardiac, 'O', ''),\n",
      " (events, 'O', ''),\n",
      " (over, 'O', ''),\n",
      " (the, 'O', ''),\n",
      " (subsequent, 'O', ''),\n",
      " (six, 'B', 'DATE'),\n",
      " (months, 'I', 'DATE'),\n",
      " (., 'O', ''),\n",
      " (Diagnostic, 'O', ''),\n",
      " (accuracy, 'O', ''),\n",
      " (of, 'O', ''),\n",
      " (each, 'O', ''),\n",
      " (test, 'O', ''),\n",
      " (was, 'O', ''),\n",
      " (estimated, 'O', ''),\n",
      " (by, 'O', ''),\n",
      " (calculating, 'O', ''),\n",
      " (sensitivity, 'O', ''),\n",
      " (and, 'O', ''),\n",
      " (specificity, 'O', ''),\n",
      " (for, 'O', ''),\n",
      " (:, 'O', ''),\n",
      " (1, 'B', 'CARDINAL'),\n",
      " (), 'O', ''),\n",
      " (acute, 'O', ''),\n",
      " (coronary, 'O', ''),\n",
      " (syndrome, 'O', ''),\n",
      " ((, 'O', ''),\n",
      " (ACS, 'O', ''),\n",
      " (), 'O', ''),\n",
      " (with, 'O', ''),\n",
      " (clinical, 'O', ''),\n",
      " (myocardial, 'O', ''),\n",
      " (infarction, 'O', ''),\n",
      " (and, 'O', ''),\n",
      " (2, 'B', 'CARDINAL'),\n",
      " (), 'O', ''),\n",
      " (ACS, 'O', ''),\n",
      " (with, 'O', ''),\n",
      " (myocyte, 'O', ''),\n",
      " (necrosis, 'O', ''),\n",
      " (., 'O', ''),\n",
      " (Prognostic, 'O', ''),\n",
      " (value, 'O', ''),\n",
      " (was, 'O', ''),\n",
      " (estimated, 'O', ''),\n",
      " (by, 'O', ''),\n",
      " (calculating, 'O', ''),\n",
      " (the, 'O', ''),\n",
      " (relative, 'O', ''),\n",
      " (risk, 'O', ''),\n",
      " (of, 'O', ''),\n",
      " (an, 'O', ''),\n",
      " (adverse, 'O', ''),\n",
      " (cardiac, 'O', ''),\n",
      " (event, 'O', ''),\n",
      " (following, 'O', ''),\n",
      " (a, 'O', ''),\n",
      " (positive, 'O', ''),\n",
      " (result, 'O', ''),\n",
      " (., 'O', ''),\n",
      " (Of, 'O', ''),\n",
      " (the, 'O', ''),\n",
      " (706, 'B', 'CARDINAL'),\n",
      " (patients, 'O', ''),\n",
      " (,, 'O', ''),\n",
      " (30, 'B', 'CARDINAL'),\n",
      " ((, 'O', ''),\n",
      " (4.2, 'B', 'PERCENT'),\n",
      " (%, 'I', 'PERCENT'),\n",
      " (), 'O', ''),\n",
      " (were, 'O', ''),\n",
      " (diagnosed, 'O', ''),\n",
      " (as, 'O', ''),\n",
      " (ACS, 'B', 'ORG'),\n",
      " (with, 'O', ''),\n",
      " (myocardial, 'O', ''),\n",
      " (infarction, 'O', ''),\n",
      " (,, 'O', ''),\n",
      " (30, 'B', 'CARDINAL'),\n",
      " ((, 'O', ''),\n",
      " (4.2, 'B', 'PERCENT'),\n",
      " (%, 'I', 'PERCENT'),\n",
      " (), 'O', ''),\n",
      " (as, 'O', ''),\n",
      " (ACS, 'B', 'ORG'),\n",
      " (with, 'O', ''),\n",
      " (myocyte, 'O', ''),\n",
      " (necrosis, 'O', ''),\n",
      " (,, 'O', ''),\n",
      " (and, 'O', ''),\n",
      " (32, 'B', 'CARDINAL'),\n",
      " ((, 'O', ''),\n",
      " (4.5, 'B', 'PERCENT'),\n",
      " (%, 'I', 'PERCENT'),\n",
      " (), 'O', ''),\n",
      " (suffered, 'O', ''),\n",
      " (an, 'O', ''),\n",
      " (adverse, 'O', ''),\n",
      " (cardiac, 'O', ''),\n",
      " (event, 'O', ''),\n",
      " (., 'O', ''),\n",
      " (Sensitivities, 'O', ''),\n",
      " (for, 'O', ''),\n",
      " (ACS, 'B', 'ORG'),\n",
      " (with, 'O', ''),\n",
      " (myocardial, 'O', ''),\n",
      " (infarction, 'O', ''),\n",
      " (and, 'O', ''),\n",
      " (myocyte, 'O', ''),\n",
      " (necrosis, 'O', ''),\n",
      " (respectively, 'O', ''),\n",
      " (were, 'O', ''),\n",
      " (:, 'O', ''),\n",
      " (serial, 'O', ''),\n",
      " (ECG, 'B', 'ORG'),\n",
      " (/, 'O', ''),\n",
      " (ST, 'B', 'GPE'),\n",
      " (segment, 'O', ''),\n",
      " (monitoring, 'O', ''),\n",
      " (33, 'B', 'PERCENT'),\n",
      " (%, 'I', 'PERCENT'),\n",
      " (and, 'I', 'PERCENT'),\n",
      " (23, 'I', 'PERCENT'),\n",
      " (%, 'I', 'PERCENT'),\n",
      " (;, 'O', ''),\n",
      " (CK, 'O', ''),\n",
      " (-, 'O', ''),\n",
      " (MB(mass, 'O', ''),\n",
      " (), 'O', ''),\n",
      " (96, 'B', 'PERCENT'),\n",
      " (%, 'I', 'PERCENT'),\n",
      " (and, 'I', 'PERCENT'),\n",
      " (63, 'B', 'PERCENT'),\n",
      " (%, 'I', 'PERCENT'),\n",
      " (;, 'O', ''),\n",
      " (troponin, 'O', ''),\n",
      " (T, 'O', ''),\n",
      " ((, 'O', ''),\n",
      " (using, 'O', ''),\n",
      " (0.03, 'B', 'CARDINAL'),\n",
      " (ng, 'O', ''),\n",
      " (/, 'O', ''),\n",
      " (ml, 'O', ''),\n",
      " (threshold, 'O', ''),\n",
      " (), 'O', ''),\n",
      " (96, 'B', 'PERCENT'),\n",
      " (%, 'I', 'PERCENT'),\n",
      " (and, 'I', 'PERCENT'),\n",
      " (90, 'I', 'PERCENT'),\n",
      " (%, 'I', 'PERCENT'),\n",
      " (., 'O', ''),\n",
      " (The, 'O', ''),\n",
      " (only, 'O', ''),\n",
      " (test, 'O', ''),\n",
      " (that, 'O', ''),\n",
      " (added, 'O', ''),\n",
      " (useful, 'O', ''),\n",
      " (prognostic, 'O', ''),\n",
      " (information, 'O', ''),\n",
      " (was, 'O', ''),\n",
      " (exercise, 'O', ''),\n",
      " (treadmill, 'O', ''),\n",
      " (testing, 'O', ''),\n",
      " ((, 'O', ''),\n",
      " (relative, 'O', ''),\n",
      " (risk, 'O', ''),\n",
      " (6, 'B', 'CARDINAL'),\n",
      " (for, 'O', ''),\n",
      " (cardiac, 'O', ''),\n",
      " (death, 'O', ''),\n",
      " (,, 'O', ''),\n",
      " (non, 'O', ''),\n",
      " (-, 'O', ''),\n",
      " (fatal, 'O', ''),\n",
      " (myocardial, 'O', ''),\n",
      " (infarction, 'O', ''),\n",
      " (or, 'O', ''),\n",
      " (arrhythmia, 'O', ''),\n",
      " (over, 'O', ''),\n",
      " (six, 'B', 'CARDINAL'),\n",
      " (months).Serial, 'O', ''),\n",
      " (ECG, 'B', 'ORG'),\n",
      " (/, 'O', ''),\n",
      " (ST, 'B', 'GPE'),\n",
      " (monitoring, 'O', ''),\n",
      " (,, 'O', ''),\n",
      " (as, 'O', ''),\n",
      " (used, 'O', ''),\n",
      " (in, 'O', ''),\n",
      " (our, 'O', ''),\n",
      " (protocol, 'O', ''),\n",
      " (,, 'O', ''),\n",
      " (adds, 'O', ''),\n",
      " (little, 'O', ''),\n",
      " (diagnostic, 'O', ''),\n",
      " (or, 'O', ''),\n",
      " (prognostic, 'O', ''),\n",
      " (value, 'O', ''),\n",
      " (in, 'O', ''),\n",
      " (patients, 'O', ''),\n",
      " (with, 'O', ''),\n",
      " (a, 'O', ''),\n",
      " (normal, 'O', ''),\n",
      " (or, 'O', ''),\n",
      " (non, 'O', ''),\n",
      " (-, 'O', ''),\n",
      " (diagnostic, 'O', ''),\n",
      " (initial, 'O', ''),\n",
      " (ECG, 'B', 'ORG'),\n",
      " (., 'O', ''),\n",
      " (CK, 'O', ''),\n",
      " (-, 'O', ''),\n",
      " (MB(mass, 'O', ''),\n",
      " (), 'O', ''),\n",
      " (can, 'O', ''),\n",
      " (rule, 'O', ''),\n",
      " (out, 'O', ''),\n",
      " (ACS, 'O', ''),\n",
      " (with, 'O', ''),\n",
      " (clinical, 'O', ''),\n",
      " (myocardial, 'O', ''),\n",
      " (infarction, 'O', ''),\n",
      " (but, 'O', ''),\n",
      " (not, 'O', ''),\n",
      " (myocyte, 'O', ''),\n",
      " (necrosis(defined, 'O', ''),\n",
      " (as, 'O', ''),\n",
      " (a, 'O', ''),\n",
      " (troponin, 'O', ''),\n",
      " (elevation, 'O', ''),\n",
      " (without, 'O', ''),\n",
      " (myocardial, 'O', ''),\n",
      " (infarction, 'O', ''),\n",
      " (), 'O', ''),\n",
      " (., 'O', ''),\n",
      " (Using, 'O', ''),\n",
      " (a, 'O', ''),\n",
      " (low, 'O', ''),\n",
      " (threshold, 'O', ''),\n",
      " (for, 'O', ''),\n",
      " (positivity, 'O', ''),\n",
      " (for, 'O', ''),\n",
      " (troponin, 'O', ''),\n",
      " (T, 'O', ''),\n",
      " (improves, 'O', ''),\n",
      " (sensitivity, 'O', ''),\n",
      " (of, 'O', ''),\n",
      " (this, 'O', ''),\n",
      " (test, 'O', ''),\n",
      " (for, 'O', ''),\n",
      " (myocardial, 'O', ''),\n",
      " (infarction, 'O', ''),\n",
      " (and, 'O', ''),\n",
      " (myocardial, 'O', ''),\n",
      " (necrosis, 'O', ''),\n",
      " (., 'O', ''),\n",
      " (Exercise, 'O', ''),\n",
      " (treadmill, 'O', ''),\n",
      " (testing, 'O', ''),\n",
      " (predicts, 'O', ''),\n",
      " (subsequent, 'O', ''),\n",
      " (adverse, 'O', ''),\n",
      " (cardiac, 'O', ''),\n",
      " (events, 'O', ''),\n",
      " (., 'O', '')]\n"
     ]
    }
   ],
   "source": [
    "from pprint import pprint\n",
    "pprint([(X, X.ent_iob_, X.ent_type_) for X in doc])\n",
    "#doc = nlp('European authorities fined Google a record $5.1 billion on Wednesday for abusing its power in the mobile phone market and ordered the company to alter its practices')\n",
    "#for x in doc:\n",
    " #   pprint(x,x.ent_iob, x.ent_type_)"
   ]
  },
  {
   "cell_type": "code",
   "execution_count": 28,
   "metadata": {
    "scrolled": true
   },
   "outputs": [
    {
     "name": "stdout",
     "output_type": "stream",
     "text": [
      "[('ECG', 'ORG'), ('The Northern General Hospital', 'ORG'), ('2–6 hours', 'TIME'), ('ECG', 'ORG'), ('ST', 'GPE'), ('at least two hours later', 'TIME'), ('at least six hours', 'TIME'), ('eighteen-month', 'DATE'), ('72 hours', 'TIME'), ('ECG', 'ORG'), ('six months', 'DATE'), ('1', 'CARDINAL'), ('2', 'CARDINAL'), ('706', 'CARDINAL'), ('30', 'CARDINAL'), ('4.2%', 'PERCENT'), ('ACS', 'ORG'), ('30', 'CARDINAL'), ('4.2%', 'PERCENT'), ('ACS', 'ORG'), ('32', 'CARDINAL'), ('4.5%', 'PERCENT'), ('ACS', 'ORG'), ('ECG', 'ORG'), ('ST', 'GPE'), ('33% and 23%', 'PERCENT'), ('96% and', 'PERCENT'), ('63%', 'PERCENT'), ('0.03', 'CARDINAL'), ('96% and 90%', 'PERCENT'), ('6', 'CARDINAL'), ('six', 'CARDINAL'), ('ECG', 'ORG'), ('ST', 'GPE'), ('ECG', 'ORG')]\n"
     ]
    }
   ],
   "source": [
    "doc = nlp('The chest pain unit (CPU) provides rapid diagnostic assessment for patients with acute, undifferentiated chest pain, using a combination of electrocardiographic (ECG) recording, biochemical markers and provocative cardiac testing. We aimed to identify which elements of a CPU protocol were most diagnostically and prognostically useful.The Northern General Hospital CPU uses 2–6 hours of serial ECG / ST segment monitoring, CK-MB(mass) on arrival and at least two hours later, troponin T at least six hours after worst pain and exercise treadmill testing. Data were prospectively collected over an eighteen-month period from patients managed on the CPU. Patients discharged after CPU assessment were invited to attend a follow-up appointment 72 hours later for ECG and troponin T measurement. Hospital records of all patients were reviewed to identify adverse cardiac events over the subsequent six months. Diagnostic accuracy of each test was estimated by calculating sensitivity and specificity for: 1) acute coronary syndrome (ACS) with clinical myocardial infarction and 2) ACS with myocyte necrosis. Prognostic value was estimated by calculating the relative risk of an adverse cardiac event following a positive result.Of the 706 patients, 30 (4.2%) were diagnosed as ACS with myocardial infarction, 30 (4.2%) as ACS with myocyte necrosis, and 32 (4.5%) suffered an adverse cardiac event. Sensitivities for ACS with myocardial infarction and myocyte necrosis respectively were: serial ECG / ST segment monitoring 33% and 23%; CK-MB(mass) 96% and 63%; troponin T (using 0.03 ng/ml threshold) 96% and 90%. The only test that added useful prognostic information was exercise treadmill testing (relative risk 6 for cardiac death, non-fatal myocardial infarction or arrhythmia over six months).Serial ECG / ST monitoring, as used in our protocol, adds little diagnostic or prognostic value in patients with a normal or non-diagnostic initial ECG. CK-MB(mass) can rule out ACS with clinical myocardial infarction but not myocyte necrosis(defined as a troponin elevation without myocardial infarction). Using a low threshold for positivity for troponin T improves sensitivity of this test for myocardial infarction and myocardial necrosis. Exercise treadmill testing predicts subsequent adverse cardiac events.')\n",
    "print([(X.text, X.label_) for X in doc.ents])"
   ]
  },
  {
   "cell_type": "code",
   "execution_count": 34,
   "metadata": {},
   "outputs": [
    {
     "name": "stdout",
     "output_type": "stream",
     "text": [
      "[('58-year-old', 'DATE'), ('African-American', 'NORP'), ('ER', 'GPE'), ('two days earlier', 'DATE'), ('first', 'ORDINAL'), ('half an hour', 'TIME'), ('EKG', 'ORG')]\n"
     ]
    }
   ],
   "source": [
    "doc = nlp('A 58-year-old African-American woman presents to the ER with episodic pressing/burning anterior chest pain that began two days earlier for the first time in her life. The pain started while she was walking, radiates to the back, and is accompanied by nausea, diaphoresis and mild dyspnea, but is not increased on inspiration. The latest episode of pain ended half an hour prior to her arrival. She is known to have hypertension and obesity. She denies smoking, diabetes, hypercholesterolemia, or a family history of heart disease. She currently takes no medications. Physical examination is normal. The EKG shows nonspecific changes.')\n",
    "print([(X.text, X.label_) for X in doc.ents])\n",
    "\n"
   ]
  },
  {
   "cell_type": "code",
   "execution_count": 36,
   "metadata": {},
   "outputs": [
    {
     "name": "stdout",
     "output_type": "stream",
     "text": [
      "[('BMC Emergency Medicine', 'ORG')]\n"
     ]
    }
   ],
   "source": [
    "showresult(\"BMC Emergency Medicine, Which diagnostic tests are most useful in a chest pain unit protocol?\")"
   ]
  },
  {
   "cell_type": "code",
   "execution_count": 30,
   "metadata": {},
   "outputs": [],
   "source": [
    "def showresult(text1):\n",
    "    doc = nlp(text1)\n",
    "    print([(X.text, X.label_) for X in doc.ents])\n",
    "    \n"
   ]
  },
  {
   "cell_type": "code",
   "execution_count": 19,
   "metadata": {},
   "outputs": [],
   "source": [
    "import matplotlib.pyplot as plt\n",
    "import pandas as pd\n",
    "df = pd.read_csv(\"/Users/urmi/Desktop/NLP_ASSIGN_3/pmc_all.csv\")"
   ]
  },
  {
   "cell_type": "code",
   "execution_count": 20,
   "metadata": {
    "scrolled": true
   },
   "outputs": [
    {
     "name": "stdout",
     "output_type": "stream",
     "text": [
      "<class 'pandas.core.frame.DataFrame'>\n",
      "RangeIndex: 216864 entries, 0 to 216863\n",
      "Data columns (total 7 columns):\n",
      " #   Column               Non-Null Count   Dtype \n",
      "---  ------               --------------   ----- \n",
      " 0   Unnamed: 0           216864 non-null  int64 \n",
      " 1   Abstract             216864 non-null  object\n",
      " 2   Abstract_lower       216864 non-null  object\n",
      " 3   Abstract_wo_punct    216864 non-null  object\n",
      " 4   Abstract_wo_stop     216837 non-null  object\n",
      " 5   Abstract_lemmatized  216837 non-null  object\n",
      " 6   Tokenized_Abstract   216864 non-null  object\n",
      "dtypes: int64(1), object(6)\n",
      "memory usage: 11.6+ MB\n"
     ]
    }
   ],
   "source": [
    "df.info()"
   ]
  },
  {
   "cell_type": "code",
   "execution_count": 21,
   "metadata": {},
   "outputs": [],
   "source": [
    "def explain_text_entities(text):\n",
    "    doc = nlp(text)\n",
    "    for ent in doc.ents:\n",
    "        print(f'Entity: {ent}, Label: {ent.label_}, {spacy.explain(ent.label_)}')"
   ]
  },
  {
   "cell_type": "code",
   "execution_count": 22,
   "metadata": {},
   "outputs": [
    {
     "name": "stdout",
     "output_type": "stream",
     "text": [
      "Entity: Granulocyte-colony, Label: PERSON, People, including fictional\n",
      "Entity: G-CSF, Label: ORG, Companies, agencies, institutions, etc.\n",
      "Entity: 72-year-old, Label: DATE, Absolute or relative dates or periods\n",
      "Entity: 103,700, Label: CARDINAL, Numerals that do not fall under another type\n",
      "Entity: G-CSF, Label: ORG, Companies, agencies, institutions, etc.\n",
      "Entity: 620, Label: CARDINAL, Numerals that do not fall under another type\n",
      "Entity: 8, Label: CARDINAL, Numerals that do not fall under another type\n",
      "Entity: Nine days, Label: DATE, Absolute or relative dates or periods\n",
      "Entity: WBC, Label: ORG, Companies, agencies, institutions, etc.\n",
      "Entity: 6,920, Label: CARDINAL, Numerals that do not fall under another type\n",
      "Entity: G-CSF, Label: ORG, Companies, agencies, institutions, etc.\n",
      "Entity: G-CSF, Label: ORG, Companies, agencies, institutions, etc.\n",
      "Entity: 12, Label: CARDINAL, Numerals that do not fall under another type\n",
      "Entity: One month, Label: DATE, Absolute or relative dates or periods\n",
      "Entity: Three months, Label: DATE, Absolute or relative dates or periods\n",
      "Entity: English, Label: LANGUAGE, Any named language\n",
      "Entity: 6, Label: CARDINAL, Numerals that do not fall under another type\n",
      "Entity: 6, Label: CARDINAL, Numerals that do not fall under another type\n",
      "Entity: 4, Label: CARDINAL, Numerals that do not fall under another type\n",
      "Entity: 2, Label: CARDINAL, Numerals that do not fall under another type\n",
      "Entity: MFH, Label: ORG, Companies, agencies, institutions, etc.\n",
      "Entity: MFH, Label: ORG, Companies, agencies, institutions, etc.\n",
      "Entity: G-CSF, Label: ORG, Companies, agencies, institutions, etc.\n"
     ]
    }
   ],
   "source": [
    "explain_text_entities(df['Abstract'][0])"
   ]
  },
  {
   "cell_type": "code",
   "execution_count": 23,
   "metadata": {
    "scrolled": true
   },
   "outputs": [
    {
     "data": {
      "text/html": [
       "<span class=\"tex2jax_ignore\"><div class=\"entities\" style=\"line-height: 2.5; direction: ltr\">\n",
       "<mark class=\"entity\" style=\"background: #aa9cfc; padding: 0.45em 0.6em; margin: 0 0.25em; line-height: 1; border-radius: 0.35em;\">\n",
       "    Granulocyte-colony\n",
       "    <span style=\"font-size: 0.8em; font-weight: bold; line-height: 1; border-radius: 0.35em; vertical-align: middle; margin-left: 0.5rem\">PERSON</span>\n",
       "</mark>\n",
       "-stimulating factor (\n",
       "<mark class=\"entity\" style=\"background: #7aecec; padding: 0.45em 0.6em; margin: 0 0.25em; line-height: 1; border-radius: 0.35em;\">\n",
       "    G-CSF\n",
       "    <span style=\"font-size: 0.8em; font-weight: bold; line-height: 1; border-radius: 0.35em; vertical-align: middle; margin-left: 0.5rem\">ORG</span>\n",
       "</mark>\n",
       ") functions as a hematopoietic growth factor and it is responsible for leukocytosis. G-CSF-producing tumors associated with leukocytosis include various types of malignancies.We report the case of a \n",
       "<mark class=\"entity\" style=\"background: #bfe1d9; padding: 0.45em 0.6em; margin: 0 0.25em; line-height: 1; border-radius: 0.35em;\">\n",
       "    72-year-old\n",
       "    <span style=\"font-size: 0.8em; font-weight: bold; line-height: 1; border-radius: 0.35em; vertical-align: middle; margin-left: 0.5rem\">DATE</span>\n",
       "</mark>\n",
       " man with dedifferentiated liposarcoma characterized by dedifferentiated components of malignant fibrous histiocytoma (MFH)-like features in addition to well-differentiated lipoma-like liposarcoma, arising from his upper arm. Preoperative laboratory data showed leukocytosis (\n",
       "<mark class=\"entity\" style=\"background: #e4e7d2; padding: 0.45em 0.6em; margin: 0 0.25em; line-height: 1; border-radius: 0.35em;\">\n",
       "    103,700\n",
       "    <span style=\"font-size: 0.8em; font-weight: bold; line-height: 1; border-radius: 0.35em; vertical-align: middle; margin-left: 0.5rem\">CARDINAL</span>\n",
       "</mark>\n",
       "/μl). The serum level of \n",
       "<mark class=\"entity\" style=\"background: #7aecec; padding: 0.45em 0.6em; margin: 0 0.25em; line-height: 1; border-radius: 0.35em;\">\n",
       "    G-CSF\n",
       "    <span style=\"font-size: 0.8em; font-weight: bold; line-height: 1; border-radius: 0.35em; vertical-align: middle; margin-left: 0.5rem\">ORG</span>\n",
       "</mark>\n",
       " was also elevated (\n",
       "<mark class=\"entity\" style=\"background: #e4e7d2; padding: 0.45em 0.6em; margin: 0 0.25em; line-height: 1; border-radius: 0.35em;\">\n",
       "    620\n",
       "    <span style=\"font-size: 0.8em; font-weight: bold; line-height: 1; border-radius: 0.35em; vertical-align: middle; margin-left: 0.5rem\">CARDINAL</span>\n",
       "</mark>\n",
       " pg/ml [normal, &lt;\n",
       "<mark class=\"entity\" style=\"background: #e4e7d2; padding: 0.45em 0.6em; margin: 0 0.25em; line-height: 1; border-radius: 0.35em;\">\n",
       "    8\n",
       "    <span style=\"font-size: 0.8em; font-weight: bold; line-height: 1; border-radius: 0.35em; vertical-align: middle; margin-left: 0.5rem\">CARDINAL</span>\n",
       "</mark>\n",
       " pg/ml]). \n",
       "<mark class=\"entity\" style=\"background: #bfe1d9; padding: 0.45em 0.6em; margin: 0 0.25em; line-height: 1; border-radius: 0.35em;\">\n",
       "    Nine days\n",
       "    <span style=\"font-size: 0.8em; font-weight: bold; line-height: 1; border-radius: 0.35em; vertical-align: middle; margin-left: 0.5rem\">DATE</span>\n",
       "</mark>\n",
       " after the surgery, the leukocytosis was relieved (\n",
       "<mark class=\"entity\" style=\"background: #7aecec; padding: 0.45em 0.6em; margin: 0 0.25em; line-height: 1; border-radius: 0.35em;\">\n",
       "    WBC\n",
       "    <span style=\"font-size: 0.8em; font-weight: bold; line-height: 1; border-radius: 0.35em; vertical-align: middle; margin-left: 0.5rem\">ORG</span>\n",
       "</mark>\n",
       "; \n",
       "<mark class=\"entity\" style=\"background: #e4e7d2; padding: 0.45em 0.6em; margin: 0 0.25em; line-height: 1; border-radius: 0.35em;\">\n",
       "    6,920\n",
       "    <span style=\"font-size: 0.8em; font-weight: bold; line-height: 1; border-radius: 0.35em; vertical-align: middle; margin-left: 0.5rem\">CARDINAL</span>\n",
       "</mark>\n",
       "/μl) and the elevated serum \n",
       "<mark class=\"entity\" style=\"background: #7aecec; padding: 0.45em 0.6em; margin: 0 0.25em; line-height: 1; border-radius: 0.35em;\">\n",
       "    G-CSF\n",
       "    <span style=\"font-size: 0.8em; font-weight: bold; line-height: 1; border-radius: 0.35em; vertical-align: middle; margin-left: 0.5rem\">ORG</span>\n",
       "</mark>\n",
       " level was significantly decreased (\n",
       "<mark class=\"entity\" style=\"background: #7aecec; padding: 0.45em 0.6em; margin: 0 0.25em; line-height: 1; border-radius: 0.35em;\">\n",
       "    G-CSF\n",
       "    <span style=\"font-size: 0.8em; font-weight: bold; line-height: 1; border-radius: 0.35em; vertical-align: middle; margin-left: 0.5rem\">ORG</span>\n",
       "</mark>\n",
       "; \n",
       "<mark class=\"entity\" style=\"background: #e4e7d2; padding: 0.45em 0.6em; margin: 0 0.25em; line-height: 1; border-radius: 0.35em;\">\n",
       "    12\n",
       "    <span style=\"font-size: 0.8em; font-weight: bold; line-height: 1; border-radius: 0.35em; vertical-align: middle; margin-left: 0.5rem\">CARDINAL</span>\n",
       "</mark>\n",
       " pg/ml). \n",
       "<mark class=\"entity\" style=\"background: #bfe1d9; padding: 0.45em 0.6em; margin: 0 0.25em; line-height: 1; border-radius: 0.35em;\">\n",
       "    One month\n",
       "    <span style=\"font-size: 0.8em; font-weight: bold; line-height: 1; border-radius: 0.35em; vertical-align: middle; margin-left: 0.5rem\">DATE</span>\n",
       "</mark>\n",
       " after the surgery, leukocytosis gradually began to appear again. \n",
       "<mark class=\"entity\" style=\"background: #bfe1d9; padding: 0.45em 0.6em; margin: 0 0.25em; line-height: 1; border-radius: 0.35em;\">\n",
       "    Three months\n",
       "    <span style=\"font-size: 0.8em; font-weight: bold; line-height: 1; border-radius: 0.35em; vertical-align: middle; margin-left: 0.5rem\">DATE</span>\n",
       "</mark>\n",
       " after the surgery metastatic lung lesions were confirmed, and the patient subsequently died of respiratory problems. In the \n",
       "<mark class=\"entity\" style=\"background: #ff8197; padding: 0.45em 0.6em; margin: 0 0.25em; line-height: 1; border-radius: 0.35em;\">\n",
       "    English\n",
       "    <span style=\"font-size: 0.8em; font-weight: bold; line-height: 1; border-radius: 0.35em; vertical-align: middle; margin-left: 0.5rem\">LANGUAGE</span>\n",
       "</mark>\n",
       " literature regarding soft-tissue tumors with leukocytosis, including the current case, we could review a total of \n",
       "<mark class=\"entity\" style=\"background: #e4e7d2; padding: 0.45em 0.6em; margin: 0 0.25em; line-height: 1; border-radius: 0.35em;\">\n",
       "    6\n",
       "    <span style=\"font-size: 0.8em; font-weight: bold; line-height: 1; border-radius: 0.35em; vertical-align: middle; margin-left: 0.5rem\">CARDINAL</span>\n",
       "</mark>\n",
       " cases of liposarcoma with leukocytosis. The subtype of these \n",
       "<mark class=\"entity\" style=\"background: #e4e7d2; padding: 0.45em 0.6em; margin: 0 0.25em; line-height: 1; border-radius: 0.35em;\">\n",
       "    6\n",
       "    <span style=\"font-size: 0.8em; font-weight: bold; line-height: 1; border-radius: 0.35em; vertical-align: middle; margin-left: 0.5rem\">CARDINAL</span>\n",
       "</mark>\n",
       " liposarcoma cases was undifferentiated liposarcoma, comprising dedifferentiated liposarcoma in \n",
       "<mark class=\"entity\" style=\"background: #e4e7d2; padding: 0.45em 0.6em; margin: 0 0.25em; line-height: 1; border-radius: 0.35em;\">\n",
       "    4\n",
       "    <span style=\"font-size: 0.8em; font-weight: bold; line-height: 1; border-radius: 0.35em; vertical-align: middle; margin-left: 0.5rem\">CARDINAL</span>\n",
       "</mark>\n",
       " cases and pleomorphic liposarcoma in \n",
       "<mark class=\"entity\" style=\"background: #e4e7d2; padding: 0.45em 0.6em; margin: 0 0.25em; line-height: 1; border-radius: 0.35em;\">\n",
       "    2\n",
       "    <span style=\"font-size: 0.8em; font-weight: bold; line-height: 1; border-radius: 0.35em; vertical-align: middle; margin-left: 0.5rem\">CARDINAL</span>\n",
       "</mark>\n",
       " cases.Since the only other soft-tissue tumor that was associated with leukocytosis was \n",
       "<mark class=\"entity\" style=\"background: #7aecec; padding: 0.45em 0.6em; margin: 0 0.25em; line-height: 1; border-radius: 0.35em;\">\n",
       "    MFH\n",
       "    <span style=\"font-size: 0.8em; font-weight: bold; line-height: 1; border-radius: 0.35em; vertical-align: middle; margin-left: 0.5rem\">ORG</span>\n",
       "</mark>\n",
       ", and since \n",
       "<mark class=\"entity\" style=\"background: #7aecec; padding: 0.45em 0.6em; margin: 0 0.25em; line-height: 1; border-radius: 0.35em;\">\n",
       "    MFH\n",
       "    <span style=\"font-size: 0.8em; font-weight: bold; line-height: 1; border-radius: 0.35em; vertical-align: middle; margin-left: 0.5rem\">ORG</span>\n",
       "</mark>\n",
       " is characterized by the absence of any specific differentiation, we would like to propose a possible association between \n",
       "<mark class=\"entity\" style=\"background: #7aecec; padding: 0.45em 0.6em; margin: 0 0.25em; line-height: 1; border-radius: 0.35em;\">\n",
       "    G-CSF\n",
       "    <span style=\"font-size: 0.8em; font-weight: bold; line-height: 1; border-radius: 0.35em; vertical-align: middle; margin-left: 0.5rem\">ORG</span>\n",
       "</mark>\n",
       "-producing soft-tissue tumors and an undifferentiated liposarcoma lineage, such as dedifferentiated liposarcoma or pleomorphic liposarcoma.</div></span>"
      ],
      "text/plain": [
       "<IPython.core.display.HTML object>"
      ]
     },
     "metadata": {},
     "output_type": "display_data"
    }
   ],
   "source": [
    "one_sentence = df['Abstract'][0]\n",
    "doc = nlp(one_sentence)\n",
    "spacy.displacy.render(doc, style='ent',jupyter=True)"
   ]
  },
  {
   "cell_type": "code",
   "execution_count": 40,
   "metadata": {},
   "outputs": [
    {
     "data": {
      "text/plain": [
       "Counter({'DATE': 2, 'NORP': 1, 'GPE': 1, 'ORDINAL': 1, 'TIME': 1, 'ORG': 1})"
      ]
     },
     "execution_count": 40,
     "metadata": {},
     "output_type": "execute_result"
    }
   ],
   "source": [
    "labels = [x.label_ for x in doc.ents]\n",
    "Counter(labels)"
   ]
  },
  {
   "cell_type": "code",
   "execution_count": 41,
   "metadata": {
    "scrolled": true
   },
   "outputs": [
    {
     "name": "stdout",
     "output_type": "stream",
     "text": [
      "A 58-year-old African-American woman presents to the ER with episodic pressing/burning anterior chest pain that began two days earlier for the first time in her life.\n"
     ]
    }
   ],
   "source": [
    "sentences = [x for x in doc.sents]\n",
    "print(sentences[0])"
   ]
  },
  {
   "cell_type": "code",
   "execution_count": 14,
   "metadata": {},
   "outputs": [
    {
     "data": {
      "text/html": [
       "<span class=\"tex2jax_ignore\"><div class=\"entities\" style=\"line-height: 2.5; direction: ltr\">A \n",
       "<mark class=\"entity\" style=\"background: #bfe1d9; padding: 0.45em 0.6em; margin: 0 0.25em; line-height: 1; border-radius: 0.35em;\">\n",
       "    58-year-old\n",
       "    <span style=\"font-size: 0.8em; font-weight: bold; line-height: 1; border-radius: 0.35em; vertical-align: middle; margin-left: 0.5rem\">DATE</span>\n",
       "</mark>\n",
       " \n",
       "<mark class=\"entity\" style=\"background: #c887fb; padding: 0.45em 0.6em; margin: 0 0.25em; line-height: 1; border-radius: 0.35em;\">\n",
       "    African-American\n",
       "    <span style=\"font-size: 0.8em; font-weight: bold; line-height: 1; border-radius: 0.35em; vertical-align: middle; margin-left: 0.5rem\">NORP</span>\n",
       "</mark>\n",
       " woman presents to the \n",
       "<mark class=\"entity\" style=\"background: #feca74; padding: 0.45em 0.6em; margin: 0 0.25em; line-height: 1; border-radius: 0.35em;\">\n",
       "    ER\n",
       "    <span style=\"font-size: 0.8em; font-weight: bold; line-height: 1; border-radius: 0.35em; vertical-align: middle; margin-left: 0.5rem\">GPE</span>\n",
       "</mark>\n",
       " with episodic pressing/burning anterior chest pain that began \n",
       "<mark class=\"entity\" style=\"background: #bfe1d9; padding: 0.45em 0.6em; margin: 0 0.25em; line-height: 1; border-radius: 0.35em;\">\n",
       "    two days earlier\n",
       "    <span style=\"font-size: 0.8em; font-weight: bold; line-height: 1; border-radius: 0.35em; vertical-align: middle; margin-left: 0.5rem\">DATE</span>\n",
       "</mark>\n",
       " for the \n",
       "<mark class=\"entity\" style=\"background: #e4e7d2; padding: 0.45em 0.6em; margin: 0 0.25em; line-height: 1; border-radius: 0.35em;\">\n",
       "    first\n",
       "    <span style=\"font-size: 0.8em; font-weight: bold; line-height: 1; border-radius: 0.35em; vertical-align: middle; margin-left: 0.5rem\">ORDINAL</span>\n",
       "</mark>\n",
       " time in her life.</div></span>"
      ],
      "text/plain": [
       "<IPython.core.display.HTML object>"
      ]
     },
     "metadata": {},
     "output_type": "display_data"
    }
   ],
   "source": [
    "displacy.render(nlp(str(sentences[0])), jupyter=True, style='ent')"
   ]
  },
  {
   "cell_type": "code",
   "execution_count": 15,
   "metadata": {},
   "outputs": [
    {
     "data": {
      "text/plain": [
       "[('58', 'NUM', '58'),\n",
       " ('year', 'NOUN', 'year'),\n",
       " ('old', 'ADJ', 'old'),\n",
       " ('African', 'ADJ', 'african'),\n",
       " ('American', 'ADJ', 'american'),\n",
       " ('woman', 'NOUN', 'woman'),\n",
       " ('presents', 'VERB', 'present'),\n",
       " ('ER', 'PROPN', 'ER'),\n",
       " ('episodic', 'ADJ', 'episodic'),\n",
       " ('pressing', 'VERB', 'press'),\n",
       " ('/', 'SYM', '/'),\n",
       " ('burning', 'VERB', 'burn'),\n",
       " ('anterior', 'ADJ', 'anterior'),\n",
       " ('chest', 'NOUN', 'chest'),\n",
       " ('pain', 'NOUN', 'pain'),\n",
       " ('began', 'VERB', 'begin'),\n",
       " ('days', 'NOUN', 'day'),\n",
       " ('earlier', 'ADV', 'early'),\n",
       " ('time', 'NOUN', 'time'),\n",
       " ('life', 'NOUN', 'life')]"
      ]
     },
     "execution_count": 15,
     "metadata": {},
     "output_type": "execute_result"
    }
   ],
   "source": [
    "[(x.orth_,x.pos_, x.lemma_) for x in [y \n",
    "                                      for y\n",
    "                                      in nlp(str(sentences[0])) \n",
    "                                      if not y.is_stop and y.pos_ != 'PUNCT']]"
   ]
  },
  {
   "cell_type": "code",
   "execution_count": 16,
   "metadata": {},
   "outputs": [
    {
     "data": {
      "text/plain": [
       "{'58-year-old': 'DATE',\n",
       " 'African-American': 'NORP',\n",
       " 'ER': 'GPE',\n",
       " 'two days earlier': 'DATE',\n",
       " 'first': 'ORDINAL'}"
      ]
     },
     "execution_count": 16,
     "metadata": {},
     "output_type": "execute_result"
    }
   ],
   "source": [
    "dict([(str(x), x.label_) for x in nlp(str(sentences[0])).ents])"
   ]
  },
  {
   "cell_type": "code",
   "execution_count": 17,
   "metadata": {},
   "outputs": [
    {
     "name": "stdout",
     "output_type": "stream",
     "text": [
      "[(A, 'O', ''), (58, 'B', 'DATE'), (-, 'I', 'DATE'), (year, 'I', 'DATE'), (-, 'I', 'DATE'), (old, 'I', 'DATE'), (African, 'B', 'NORP'), (-, 'I', 'NORP'), (American, 'I', 'NORP'), (woman, 'O', ''), (presents, 'O', ''), (to, 'O', ''), (the, 'O', ''), (ER, 'B', 'GPE'), (with, 'O', ''), (episodic, 'O', ''), (pressing, 'O', ''), (/, 'O', ''), (burning, 'O', ''), (anterior, 'O', ''), (chest, 'O', ''), (pain, 'O', ''), (that, 'O', ''), (began, 'O', ''), (two, 'B', 'DATE'), (days, 'I', 'DATE'), (earlier, 'I', 'DATE'), (for, 'O', ''), (the, 'O', ''), (first, 'B', 'ORDINAL'), (time, 'O', ''), (in, 'O', ''), (her, 'O', ''), (life, 'O', ''), (., 'O', '')]\n"
     ]
    }
   ],
   "source": [
    "print([(x, x.ent_iob_, x.ent_type_) for x in sentences[0]])"
   ]
  },
  {
   "cell_type": "code",
   "execution_count": 37,
   "metadata": {},
   "outputs": [
    {
     "name": "stdout",
     "output_type": "stream",
     "text": [
      "[('Granulocyte-colony-stimulating', 'O'), ('factor', 'O'), ('(', 'O'), ('G-CSF', 'O'), (')', 'O'), ('functions', 'O'), ('as', 'O'), ('a', 'O'), ('hematopoietic', 'O'), ('growth', 'O'), ('factor', 'O'), ('and', 'O'), ('it', 'O'), ('is', 'O'), ('responsible', 'O'), ('for', 'O'), ('leukocytosis', 'O'), ('.', 'O'), ('G-CSF-producing', 'O'), ('tumors', 'O'), ('associated', 'O'), ('with', 'O'), ('leukocytosis', 'O'), ('include', 'O'), ('various', 'O'), ('types', 'O'), ('of', 'O'), ('malignancies.We', 'O'), ('report', 'O'), ('the', 'O'), ('case', 'O'), ('of', 'O'), ('a', 'O'), ('72-year-old', 'O'), ('man', 'O'), ('with', 'O'), ('dedifferentiated', 'O'), ('liposarcoma', 'O'), ('characterized', 'O'), ('by', 'O'), ('dedifferentiated', 'O'), ('components', 'O'), ('of', 'O'), ('malignant', 'O'), ('fibrous', 'O'), ('histiocytoma', 'O'), ('(', 'O'), ('MFH', 'O'), (')', 'O'), ('-like', 'O'), ('features', 'O'), ('in', 'O'), ('addition', 'O'), ('to', 'O'), ('well-differentiated', 'O'), ('lipoma-like', 'O'), ('liposarcoma', 'O'), (',', 'O'), ('arising', 'O'), ('from', 'O'), ('his', 'O'), ('upper', 'O'), ('arm', 'O'), ('.', 'O'), ('Preoperative', 'O'), ('laboratory', 'O'), ('data', 'O'), ('showed', 'O'), ('leukocytosis', 'O'), ('(', 'O'), ('103,700μl', 'O'), (')', 'O'), ('.', 'O'), ('The', 'O'), ('serum', 'O'), ('level', 'O'), ('of', 'O'), ('G-CSF', 'O'), ('was', 'O'), ('also', 'O'), ('elevated', 'O'), ('(', 'O'), ('620', 'O'), ('pgml', 'O'), ('[', 'O'), ('normal', 'O'), (',', 'O'), ('<', 'O'), ('8', 'O'), ('pgml', 'O'), (']', 'O'), (')', 'O'), ('.', 'O'), ('Nine', 'O'), ('days', 'O'), ('after', 'O'), ('the', 'O'), ('surgery', 'O'), (',', 'O'), ('the', 'O'), ('leukocytosis', 'O'), ('was', 'O'), ('relieved', 'O'), ('(', 'O'), ('WBC', 'O'), (';', 'O'), ('6,920μl', 'O'), (')', 'O'), ('and', 'O'), ('the', 'O'), ('elevated', 'O'), ('serum', 'O'), ('G-CSF', 'O'), ('level', 'O'), ('was', 'O'), ('significantly', 'O'), ('decreased', 'O'), ('(', 'O'), ('G-CSF', 'O'), (';', 'O'), ('12', 'O'), ('pgml', 'O'), (')', 'O'), ('.', 'O'), ('One', 'O'), ('month', 'O'), ('after', 'O'), ('the', 'O'), ('surgery', 'O'), (',', 'O'), ('leukocytosis', 'O'), ('gradually', 'O'), ('began', 'O'), ('to', 'O'), ('appear', 'O'), ('again', 'O'), ('.', 'O'), ('Three', 'O'), ('months', 'O'), ('after', 'O'), ('the', 'O'), ('surgery', 'O'), ('metastatic', 'O'), ('lung', 'O'), ('lesions', 'O'), ('were', 'O'), ('confirmed', 'O'), (',', 'O'), ('and', 'O'), ('the', 'O'), ('patient', 'O'), ('subsequently', 'O'), ('died', 'O'), ('of', 'O'), ('respiratory', 'O'), ('problems', 'O'), ('.', 'O'), ('In', 'O'), ('the', 'O'), ('English', 'O'), ('literature', 'O'), ('regarding', 'O'), ('soft-tissue', 'O'), ('tumors', 'O'), ('with', 'O'), ('leukocytosis', 'O'), (',', 'O'), ('including', 'O'), ('the', 'O'), ('current', 'O'), ('case', 'O'), (',', 'O'), ('we', 'O'), ('could', 'O'), ('review', 'O'), ('a', 'O'), ('total', 'O'), ('of', 'O'), ('6', 'O'), ('cases', 'O'), ('of', 'O'), ('liposarcoma', 'O'), ('with', 'O'), ('leukocytosis', 'O'), ('.', 'O'), ('The', 'O'), ('subtype', 'O'), ('of', 'O'), ('these', 'O'), ('6', 'O'), ('liposarcoma', 'O'), ('cases', 'O'), ('was', 'O'), ('undifferentiated', 'O'), ('liposarcoma', 'O'), (',', 'O'), ('comprising', 'O'), ('dedifferentiated', 'O'), ('liposarcoma', 'O'), ('in', 'O'), ('4', 'O'), ('cases', 'O'), ('and', 'O'), ('pleomorphic', 'O'), ('liposarcoma', 'O'), ('in', 'O'), ('2', 'O'), ('cases.Since', 'O'), ('the', 'O'), ('only', 'O'), ('other', 'O'), ('soft-tissue', 'O'), ('tumor', 'O'), ('that', 'O'), ('was', 'O'), ('associated', 'O'), ('with', 'O'), ('leukocytosis', 'O'), ('was', 'O'), ('MFH', 'O'), (',', 'O'), ('and', 'O'), ('since', 'O'), ('MFH', 'O'), ('is', 'O'), ('characterized', 'O'), ('by', 'O'), ('the', 'O'), ('absence', 'O'), ('of', 'O'), ('any', 'O'), ('specific', 'O'), ('differentiation', 'O'), (',', 'O'), ('we', 'O'), ('would', 'O'), ('like', 'O'), ('to', 'O'), ('propose', 'O'), ('a', 'O'), ('possible', 'O'), ('association', 'O'), ('between', 'O'), ('G-CSF-producing', 'O'), ('soft-tissue', 'O'), ('tumors', 'O'), ('and', 'O'), ('an', 'O'), ('undifferentiated', 'O'), ('liposarcoma', 'O'), ('lineage', 'O'), (',', 'O'), ('such', 'O'), ('as', 'O'), ('dedifferentiated', 'O'), ('liposarcoma', 'O'), ('or', 'O'), ('pleomorphic', 'O'), ('liposarcoma', 'O'), ('.', 'O')]\n"
     ]
    }
   ],
   "source": [
    "from nltk.tag import StanfordNERTagger\n",
    "from nltk.tokenize import word_tokenize\n",
    "\n",
    "st = StanfordNERTagger('/Users/urmi/Desktop/NLP_ASSIGN_3/stanford-ner-2020-11-17/classifiers/english.muc.7class.distsim.crf.ser.gz',\n",
    "\t\t\t\t\t   '/Users/urmi/Desktop/NLP_ASSIGN_3/stanford-ner-2020-11-17/stanford-ner.jar',\n",
    "\t\t\t\t\t   encoding='utf-8')\n",
    "\n",
    "#text = 'While in France, Christine Lagarde discussed short-term stimulus efforts in a recent interview with the Wall Street Journal.'\n",
    "\n",
    "tokenized_text = word_tokenize(df['Abstract'][0])\n",
    "classified_text = st.tag(tokenized_text)\n",
    "\n",
    "print(classified_text)"
   ]
  },
  {
   "cell_type": "code",
   "execution_count": null,
   "metadata": {},
   "outputs": [],
   "source": []
  }
 ],
 "metadata": {
  "kernelspec": {
   "display_name": "Python 3",
   "language": "python",
   "name": "python3"
  },
  "language_info": {
   "codemirror_mode": {
    "name": "ipython",
    "version": 3
   },
   "file_extension": ".py",
   "mimetype": "text/x-python",
   "name": "python",
   "nbconvert_exporter": "python",
   "pygments_lexer": "ipython3",
   "version": "3.9.0"
  }
 },
 "nbformat": 4,
 "nbformat_minor": 4
}
