{
 "cells": [
  {
   "cell_type": "code",
   "execution_count": 1,
   "metadata": {},
   "outputs": [],
   "source": [
    "import pandas as pd\n",
    "df = pd.read_csv('/Users/urmi/Desktop/NLP_ASSIGN_3/all_text_scispacy.csv')"
   ]
  },
  {
   "cell_type": "code",
   "execution_count": 4,
   "metadata": {},
   "outputs": [],
   "source": [
    "import pandas as pd\n",
    "dff = pd.read_csv('/Users/urmi/Desktop/NLP_ASSIGN_3/all_text_trained.csv')"
   ]
  },
  {
   "cell_type": "code",
   "execution_count": 2,
   "metadata": {},
   "outputs": [
    {
     "name": "stdout",
     "output_type": "stream",
     "text": [
      "<class 'pandas.core.frame.DataFrame'>\n",
      "RangeIndex: 733328 entries, 0 to 733327\n",
      "Data columns (total 8 columns):\n",
      " #   Column            Non-Null Count   Dtype \n",
      "---  ------            --------------   ----- \n",
      " 0   Unnamed: 0        733328 non-null  int64 \n",
      " 1   Unnamed: 0.1      733328 non-null  int64 \n",
      " 2   Article_Id        733328 non-null  int64 \n",
      " 3   final_text        722952 non-null  object\n",
      " 4   final_text_lower  722952 non-null  object\n",
      " 5   final_text_punct  721510 non-null  object\n",
      " 6   final_text_stop   718058 non-null  object\n",
      " 7   sci_ner_text      718058 non-null  object\n",
      "dtypes: int64(3), object(5)\n",
      "memory usage: 44.8+ MB\n"
     ]
    }
   ],
   "source": [
    "df.info()"
   ]
  },
  {
   "cell_type": "code",
   "execution_count": 3,
   "metadata": {},
   "outputs": [
    {
     "data": {
      "text/html": [
       "<div>\n",
       "<style scoped>\n",
       "    .dataframe tbody tr th:only-of-type {\n",
       "        vertical-align: middle;\n",
       "    }\n",
       "\n",
       "    .dataframe tbody tr th {\n",
       "        vertical-align: top;\n",
       "    }\n",
       "\n",
       "    .dataframe thead th {\n",
       "        text-align: right;\n",
       "    }\n",
       "</style>\n",
       "<table border=\"1\" class=\"dataframe\">\n",
       "  <thead>\n",
       "    <tr style=\"text-align: right;\">\n",
       "      <th></th>\n",
       "      <th>Unnamed: 0</th>\n",
       "      <th>Unnamed: 0.1</th>\n",
       "      <th>Article_Id</th>\n",
       "      <th>final_text</th>\n",
       "      <th>final_text_lower</th>\n",
       "      <th>final_text_punct</th>\n",
       "      <th>final_text_stop</th>\n",
       "      <th>sci_ner_text</th>\n",
       "    </tr>\n",
       "  </thead>\n",
       "  <tbody>\n",
       "    <tr>\n",
       "      <th>0</th>\n",
       "      <td>0</td>\n",
       "      <td>0</td>\n",
       "      <td>2213094</td>\n",
       "      <td>Too old to help</td>\n",
       "      <td>too old to help</td>\n",
       "      <td>too old to help</td>\n",
       "      <td>old help</td>\n",
       "      <td>[]</td>\n",
       "    </tr>\n",
       "    <tr>\n",
       "      <th>1</th>\n",
       "      <td>1</td>\n",
       "      <td>1</td>\n",
       "      <td>2203997</td>\n",
       "      <td>Dedifferentiated liposarcoma with leukocytosis...</td>\n",
       "      <td>dedifferentiated liposarcoma with leukocytosis...</td>\n",
       "      <td>dedifferentiated liposarcoma with leukocytosis...</td>\n",
       "      <td>dedifferentiated liposarcoma leukocytosis case...</td>\n",
       "      <td>['liposarcoma', 'leukocytosis case report', 's...</td>\n",
       "    </tr>\n",
       "    <tr>\n",
       "      <th>2</th>\n",
       "      <td>2</td>\n",
       "      <td>2</td>\n",
       "      <td>2211553</td>\n",
       "      <td>A Functional Genomic Yeast Screen to Identify ...</td>\n",
       "      <td>a functional genomic yeast screen to identify ...</td>\n",
       "      <td>a functional genomic yeast screen to identify ...</td>\n",
       "      <td>functional genomic yeast screen identify patho...</td>\n",
       "      <td>['functional', 'genomic yeast', 'pathogenic', ...</td>\n",
       "    </tr>\n",
       "    <tr>\n",
       "      <th>3</th>\n",
       "      <td>3</td>\n",
       "      <td>3</td>\n",
       "      <td>2199963</td>\n",
       "      <td>Developmental regulation of membrane traffic o...</td>\n",
       "      <td>developmental regulation of membrane traffic o...</td>\n",
       "      <td>developmental regulation of membrane traffic o...</td>\n",
       "      <td>developmental regulation membrane traffic orga...</td>\n",
       "      <td>['developmental regulation', 'traffic', 'mouse...</td>\n",
       "    </tr>\n",
       "    <tr>\n",
       "      <th>4</th>\n",
       "      <td>4</td>\n",
       "      <td>4</td>\n",
       "      <td>2203094</td>\n",
       "      <td>The Avoidance Response in</td>\n",
       "      <td>the avoidance response in</td>\n",
       "      <td>the avoidance response in</td>\n",
       "      <td>avoidance response</td>\n",
       "      <td>['avoidance response']</td>\n",
       "    </tr>\n",
       "  </tbody>\n",
       "</table>\n",
       "</div>"
      ],
      "text/plain": [
       "   Unnamed: 0  Unnamed: 0.1  Article_Id  \\\n",
       "0           0             0     2213094   \n",
       "1           1             1     2203997   \n",
       "2           2             2     2211553   \n",
       "3           3             3     2199963   \n",
       "4           4             4     2203094   \n",
       "\n",
       "                                          final_text  \\\n",
       "0                                    Too old to help   \n",
       "1  Dedifferentiated liposarcoma with leukocytosis...   \n",
       "2  A Functional Genomic Yeast Screen to Identify ...   \n",
       "3  Developmental regulation of membrane traffic o...   \n",
       "4                         The Avoidance Response in    \n",
       "\n",
       "                                    final_text_lower  \\\n",
       "0                                    too old to help   \n",
       "1  dedifferentiated liposarcoma with leukocytosis...   \n",
       "2  a functional genomic yeast screen to identify ...   \n",
       "3  developmental regulation of membrane traffic o...   \n",
       "4                         the avoidance response in    \n",
       "\n",
       "                                    final_text_punct  \\\n",
       "0                                    too old to help   \n",
       "1  dedifferentiated liposarcoma with leukocytosis...   \n",
       "2  a functional genomic yeast screen to identify ...   \n",
       "3  developmental regulation of membrane traffic o...   \n",
       "4                         the avoidance response in    \n",
       "\n",
       "                                     final_text_stop  \\\n",
       "0                                           old help   \n",
       "1  dedifferentiated liposarcoma leukocytosis case...   \n",
       "2  functional genomic yeast screen identify patho...   \n",
       "3  developmental regulation membrane traffic orga...   \n",
       "4                                 avoidance response   \n",
       "\n",
       "                                        sci_ner_text  \n",
       "0                                                 []  \n",
       "1  ['liposarcoma', 'leukocytosis case report', 's...  \n",
       "2  ['functional', 'genomic yeast', 'pathogenic', ...  \n",
       "3  ['developmental regulation', 'traffic', 'mouse...  \n",
       "4                             ['avoidance response']  "
      ]
     },
     "execution_count": 3,
     "metadata": {},
     "output_type": "execute_result"
    }
   ],
   "source": [
    "df.head()"
   ]
  },
  {
   "cell_type": "code",
   "execution_count": 6,
   "metadata": {},
   "outputs": [
    {
     "name": "stdout",
     "output_type": "stream",
     "text": [
      "<class 'pandas.core.frame.DataFrame'>\n",
      "RangeIndex: 733328 entries, 0 to 733327\n",
      "Data columns (total 8 columns):\n",
      " #   Column            Non-Null Count   Dtype \n",
      "---  ------            --------------   ----- \n",
      " 0   Unnamed: 0        733328 non-null  int64 \n",
      " 1   Unnamed: 0.1      733328 non-null  int64 \n",
      " 2   Article_Id        733328 non-null  int64 \n",
      " 3   final_text        722952 non-null  object\n",
      " 4   final_text_lower  722952 non-null  object\n",
      " 5   final_text_punct  721510 non-null  object\n",
      " 6   final_text_stop   718058 non-null  object\n",
      " 7   trained_ner_text  718058 non-null  object\n",
      "dtypes: int64(3), object(5)\n",
      "memory usage: 44.8+ MB\n"
     ]
    }
   ],
   "source": [
    "dff.info()"
   ]
  },
  {
   "cell_type": "code",
   "execution_count": 5,
   "metadata": {},
   "outputs": [
    {
     "data": {
      "text/html": [
       "<div>\n",
       "<style scoped>\n",
       "    .dataframe tbody tr th:only-of-type {\n",
       "        vertical-align: middle;\n",
       "    }\n",
       "\n",
       "    .dataframe tbody tr th {\n",
       "        vertical-align: top;\n",
       "    }\n",
       "\n",
       "    .dataframe thead th {\n",
       "        text-align: right;\n",
       "    }\n",
       "</style>\n",
       "<table border=\"1\" class=\"dataframe\">\n",
       "  <thead>\n",
       "    <tr style=\"text-align: right;\">\n",
       "      <th></th>\n",
       "      <th>Unnamed: 0</th>\n",
       "      <th>Unnamed: 0.1</th>\n",
       "      <th>Article_Id</th>\n",
       "      <th>final_text</th>\n",
       "      <th>final_text_lower</th>\n",
       "      <th>final_text_punct</th>\n",
       "      <th>final_text_stop</th>\n",
       "      <th>trained_ner_text</th>\n",
       "    </tr>\n",
       "  </thead>\n",
       "  <tbody>\n",
       "    <tr>\n",
       "      <th>0</th>\n",
       "      <td>0</td>\n",
       "      <td>0</td>\n",
       "      <td>2213094</td>\n",
       "      <td>Too old to help</td>\n",
       "      <td>too old to help</td>\n",
       "      <td>too old to help</td>\n",
       "      <td>old help</td>\n",
       "      <td>['old']</td>\n",
       "    </tr>\n",
       "    <tr>\n",
       "      <th>1</th>\n",
       "      <td>1</td>\n",
       "      <td>1</td>\n",
       "      <td>2203997</td>\n",
       "      <td>Dedifferentiated liposarcoma with leukocytosis...</td>\n",
       "      <td>dedifferentiated liposarcoma with leukocytosis...</td>\n",
       "      <td>dedifferentiated liposarcoma with leukocytosis...</td>\n",
       "      <td>dedifferentiated liposarcoma leukocytosis case...</td>\n",
       "      <td>['liposarcoma leukocytosis', 'tumors', 'liposa...</td>\n",
       "    </tr>\n",
       "    <tr>\n",
       "      <th>2</th>\n",
       "      <td>2</td>\n",
       "      <td>2</td>\n",
       "      <td>2211553</td>\n",
       "      <td>A Functional Genomic Yeast Screen to Identify ...</td>\n",
       "      <td>a functional genomic yeast screen to identify ...</td>\n",
       "      <td>a functional genomic yeast screen to identify ...</td>\n",
       "      <td>functional genomic yeast screen identify patho...</td>\n",
       "      <td>['yeast', 'pathogenic']</td>\n",
       "    </tr>\n",
       "    <tr>\n",
       "      <th>3</th>\n",
       "      <td>3</td>\n",
       "      <td>3</td>\n",
       "      <td>2199963</td>\n",
       "      <td>Developmental regulation of membrane traffic o...</td>\n",
       "      <td>developmental regulation of membrane traffic o...</td>\n",
       "      <td>developmental regulation of membrane traffic o...</td>\n",
       "      <td>developmental regulation membrane traffic orga...</td>\n",
       "      <td>['synaptogenesis', 'diaphragm']</td>\n",
       "    </tr>\n",
       "    <tr>\n",
       "      <th>4</th>\n",
       "      <td>4</td>\n",
       "      <td>4</td>\n",
       "      <td>2203094</td>\n",
       "      <td>The Avoidance Response in</td>\n",
       "      <td>the avoidance response in</td>\n",
       "      <td>the avoidance response in</td>\n",
       "      <td>avoidance response</td>\n",
       "      <td>[]</td>\n",
       "    </tr>\n",
       "  </tbody>\n",
       "</table>\n",
       "</div>"
      ],
      "text/plain": [
       "   Unnamed: 0  Unnamed: 0.1  Article_Id  \\\n",
       "0           0             0     2213094   \n",
       "1           1             1     2203997   \n",
       "2           2             2     2211553   \n",
       "3           3             3     2199963   \n",
       "4           4             4     2203094   \n",
       "\n",
       "                                          final_text  \\\n",
       "0                                    Too old to help   \n",
       "1  Dedifferentiated liposarcoma with leukocytosis...   \n",
       "2  A Functional Genomic Yeast Screen to Identify ...   \n",
       "3  Developmental regulation of membrane traffic o...   \n",
       "4                         The Avoidance Response in    \n",
       "\n",
       "                                    final_text_lower  \\\n",
       "0                                    too old to help   \n",
       "1  dedifferentiated liposarcoma with leukocytosis...   \n",
       "2  a functional genomic yeast screen to identify ...   \n",
       "3  developmental regulation of membrane traffic o...   \n",
       "4                         the avoidance response in    \n",
       "\n",
       "                                    final_text_punct  \\\n",
       "0                                    too old to help   \n",
       "1  dedifferentiated liposarcoma with leukocytosis...   \n",
       "2  a functional genomic yeast screen to identify ...   \n",
       "3  developmental regulation of membrane traffic o...   \n",
       "4                         the avoidance response in    \n",
       "\n",
       "                                     final_text_stop  \\\n",
       "0                                           old help   \n",
       "1  dedifferentiated liposarcoma leukocytosis case...   \n",
       "2  functional genomic yeast screen identify patho...   \n",
       "3  developmental regulation membrane traffic orga...   \n",
       "4                                 avoidance response   \n",
       "\n",
       "                                    trained_ner_text  \n",
       "0                                            ['old']  \n",
       "1  ['liposarcoma leukocytosis', 'tumors', 'liposa...  \n",
       "2                            ['yeast', 'pathogenic']  \n",
       "3                    ['synaptogenesis', 'diaphragm']  \n",
       "4                                                 []  "
      ]
     },
     "execution_count": 5,
     "metadata": {},
     "output_type": "execute_result"
    }
   ],
   "source": [
    "dff.head()"
   ]
  },
  {
   "cell_type": "code",
   "execution_count": 17,
   "metadata": {},
   "outputs": [
    {
     "data": {
      "text/plain": [
       "\"['developmental regulation', 'traffic', 'mouse', 'diaphragm muscle']\""
      ]
     },
     "execution_count": 17,
     "metadata": {},
     "output_type": "execute_result"
    }
   ],
   "source": [
    "df['sci_ner_text'][3]"
   ]
  },
  {
   "cell_type": "code",
   "execution_count": 18,
   "metadata": {
    "scrolled": true
   },
   "outputs": [
    {
     "data": {
      "text/plain": [
       "'developmental regulation membrane traffic organization synaptogenesis mouse diaphragm muscle'"
      ]
     },
     "execution_count": 18,
     "metadata": {},
     "output_type": "execute_result"
    }
   ],
   "source": [
    "dff['final_text_stop'][3]"
   ]
  },
  {
   "cell_type": "code",
   "execution_count": 12,
   "metadata": {},
   "outputs": [],
   "source": [
    "import spacy\n",
    "nlp = spacy.load('en_core_web_lg')"
   ]
  },
  {
   "cell_type": "code",
   "execution_count": 21,
   "metadata": {
    "scrolled": true
   },
   "outputs": [
    {
     "name": "stdout",
     "output_type": "stream",
     "text": [
      "sentence 1 has noun chunk 'dedifferentiated liposarcoma leukocytosis case'\n",
      "sentence 1 has noun chunk 'softtissue tumors'\n",
      "sentence 1 has noun chunk 'possible association'\n",
      "sentence 1 has noun chunk 'undifferentiated liposarcoma lineagegranulocytecolonystimulating factor gcsf functions'\n",
      "sentence 1 has noun chunk 'hematopoietic growth factor'\n",
      "sentence 1 has noun chunk 'responsible leukocytosis gcsfproducing tumors'\n",
      "sentence 1 has noun chunk 'leukocytosis'\n",
      "sentence 1 has noun chunk 'various types'\n",
      "sentence 1 has noun chunk 'malignancieswe report case'\n",
      "sentence 2 has noun chunk '72yearold man dedifferentiated liposarcoma characterized dedifferentiated components'\n",
      "sentence 2 has noun chunk 'malignant fibrous histiocytoma mfhlike features addition'\n",
      "sentence 2 has noun chunk 'arising upper arm preoperative laboratory data'\n",
      "sentence 2 has noun chunk 'leukocytosis 103700μl serum level gcsf'\n",
      "sentence 3 has noun chunk 'normal 8 pgml'\n",
      "sentence 3 has noun chunk 'surgery'\n",
      "sentence 3 has noun chunk 'leukocytosis relieved wbc 6920μl elevated serum gcsf level'\n",
      "sentence 4 has noun chunk 'one month surgery'\n",
      "sentence 4 has noun chunk 'leukocytosis'\n",
      "sentence 4 has noun chunk 'metastatic lung lesions'\n",
      "sentence 4 has noun chunk 'patient'\n",
      "sentence 4 has noun chunk 'respiratory problems'\n",
      "sentence 4 has noun chunk 'english literature'\n",
      "sentence 4 has noun chunk 'softtissue tumors'\n",
      "sentence 4 has noun chunk 'leukocytosis'\n",
      "sentence 4 has noun chunk 'current case'\n",
      "sentence 4 has noun chunk 'total 6 cases'\n",
      "sentence 4 has noun chunk '6 liposarcoma cases'\n",
      "sentence 4 has noun chunk 'dedifferentiated liposarcoma 4 cases'\n",
      "sentence 4 has noun chunk 'pleomorphic liposarcoma 2 casessince softtissue tumor'\n",
      "sentence 4 has noun chunk 'mfh characterized absence'\n",
      "sentence 4 has noun chunk 'specific differentiation'\n",
      "sentence 4 has noun chunk 'possible association'\n",
      "sentence 4 has noun chunk 'softtissue tumors'\n",
      "sentence 4 has noun chunk 'undifferentiated liposarcoma lineage'\n",
      "sentence 4 has noun chunk 'liposarcoma pleomorphic liposarcoma'\n"
     ]
    }
   ],
   "source": [
    "example_text = dff['final_text_stop'][1]\n",
    "doc = nlp(example_text)\n",
    "#spacy.displacy.render(doc, style='ent', jupyter=True)\n",
    "\n",
    "for idx, sentence in enumerate(doc.sents):\n",
    "    for noun in sentence.noun_chunks:\n",
    "        print(f\"sentence {idx+1} has noun chunk '{noun}'\")"
   ]
  },
  {
   "cell_type": "code",
   "execution_count": 45,
   "metadata": {
    "scrolled": true
   },
   "outputs": [
    {
     "name": "stdout",
     "output_type": "stream",
     "text": [
      "dedifferentiated liposarcoma leukocytosis case report gcsfproducing softtissue tumors possible association undifferentiated liposarcoma lineagegranulocytecolonystimulating factor gcsf functions hematopoietic growth factor responsible leukocytosis gcsfproducing tumors associated leukocytosis include various types malignancieswe report case 72yearold man dedifferentiated liposarcoma characterized dedifferentiated components malignant fibrous histiocytoma mfhlike features addition welldifferentiated lipomalike liposarcoma arising upper arm preoperative laboratory data showed leukocytosis 103700μl serum level gcsf also elevated 620 pgml normal 8 pgml nine days surgery leukocytosis relieved wbc 6920μl elevated serum gcsf level significantly decreased gcsf 12 pgml one month surgery leukocytosis gradually began appear three months surgery metastatic lung lesions confirmed patient subsequently died respiratory problems english literature regarding softtissue tumors leukocytosis including current case could review total 6 cases liposarcoma leukocytosis subtype 6 liposarcoma cases undifferentiated liposarcoma comprising dedifferentiated liposarcoma 4 cases pleomorphic liposarcoma 2 casessince softtissue tumor associated leukocytosis mfh since mfh characterized absence specific differentiation would like propose possible association gcsfproducing softtissue tumors undifferentiated liposarcoma lineage dedifferentiated liposarcoma pleomorphic liposarcoma\n",
      "leukocytosis NOUN\n",
      "case NOUN\n",
      "softtissue NOUN\n",
      "tumors NOUN\n",
      "association NOUN\n",
      "liposarcoma NOUN\n",
      "factor NOUN\n",
      "gcsf NOUN\n",
      "functions NOUN\n",
      "growth NOUN\n",
      "factor NOUN\n",
      "leukocytosis NOUN\n",
      "tumors NOUN\n",
      "leukocytosis NOUN\n",
      "types NOUN\n",
      "malignancieswe NOUN\n",
      "report NOUN\n",
      "case NOUN\n",
      "man NOUN\n",
      "components NOUN\n",
      "histiocytoma NOUN\n",
      "mfhlike NOUN\n",
      "addition NOUN\n",
      "arm NOUN\n",
      "laboratory NOUN\n",
      "data NOUN\n",
      "leukocytosis NOUN\n",
      "serum NOUN\n",
      "level NOUN\n",
      "gcsf NOUN\n",
      "pgml NOUN\n",
      "days NOUN\n",
      "surgery NOUN\n",
      "leukocytosis NOUN\n",
      "wbc NOUN\n",
      "serum NOUN\n",
      "gcsf NOUN\n",
      "level NOUN\n",
      "gcsf NOUN\n",
      "pgml NOUN\n",
      "month NOUN\n",
      "surgery NOUN\n",
      "leukocytosis NOUN\n",
      "months NOUN\n",
      "surgery NOUN\n",
      "lung NOUN\n",
      "lesions NOUN\n",
      "patient NOUN\n",
      "problems NOUN\n",
      "literature NOUN\n",
      "softtissue NOUN\n",
      "tumors NOUN\n",
      "leukocytosis NOUN\n",
      "case NOUN\n",
      "cases NOUN\n",
      "leukocytosis NOUN\n",
      "cases NOUN\n",
      "cases NOUN\n",
      "casessince NOUN\n",
      "softtissue NOUN\n",
      "tumor NOUN\n",
      "leukocytosis NOUN\n",
      "mfh NOUN\n",
      "mfh NOUN\n",
      "absence NOUN\n",
      "differentiation NOUN\n",
      "association NOUN\n",
      "softtissue NOUN\n",
      "tumors NOUN\n",
      "lineage NOUN\n",
      "liposarcoma NOUN\n"
     ]
    }
   ],
   "source": [
    "example_text = dff['final_text_stop'][1]\n",
    "doc = nlp(example_text)\n",
    "print(doc)\n",
    "for token in doc:\n",
    "    if token.pos_ in ['NOUN', 'PROPN']:\n",
    "        print(token, token.pos_)"
   ]
  },
  {
   "cell_type": "code",
   "execution_count": 27,
   "metadata": {},
   "outputs": [
    {
     "name": "stdout",
     "output_type": "stream",
     "text": [
      "leukocytosis case softtissue tumors association liposarcoma factor gcsf functions growth factor leukocytosis tumors leukocytosis types malignancieswe report case man components histiocytoma mfhlike addition arm laboratory data leukocytosis serum level gcsf pgml days surgery leukocytosis wbc serum gcsf level gcsf pgml month surgery leukocytosis months surgery lung lesions patient problems literature softtissue tumors leukocytosis case cases leukocytosis cases cases casessince softtissue tumor leukocytosis mfh mfh absence differentiation association softtissue tumors lineage liposarcoma\n"
     ]
    }
   ],
   "source": [
    "search_doc_nouns = nlp(' '.join([str(t) for t in doc if t.pos_ in ['NOUN', 'PROPN']]))\n",
    "print(search_doc_nouns)"
   ]
  },
  {
   "cell_type": "code",
   "execution_count": null,
   "metadata": {},
   "outputs": [],
   "source": []
  }
 ],
 "metadata": {
  "kernelspec": {
   "display_name": "Python 3",
   "language": "python",
   "name": "python3"
  },
  "language_info": {
   "codemirror_mode": {
    "name": "ipython",
    "version": 3
   },
   "file_extension": ".py",
   "mimetype": "text/x-python",
   "name": "python",
   "nbconvert_exporter": "python",
   "pygments_lexer": "ipython3",
   "version": "3.9.0"
  }
 },
 "nbformat": 4,
 "nbformat_minor": 4
}
